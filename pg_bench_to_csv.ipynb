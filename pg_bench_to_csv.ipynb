{
  "nbformat": 4,
  "nbformat_minor": 0,
  "metadata": {
    "colab": {
      "name": "pg_bench to csv.ipynb",
      "provenance": [],
      "collapsed_sections": []
    },
    "kernelspec": {
      "name": "python3",
      "display_name": "Python 3"
    }
  },
  "cells": [
    {
      "cell_type": "markdown",
      "metadata": {
        "id": "LJRsKbbJybt1",
        "colab_type": "text"
      },
      "source": [
        "<img src=\"https://previews.123rf.com/images/darkyugi/darkyugi1901/darkyugi190100040/125870004-cute-baby-elephant-cartoon.jpg\" alt=\"cute elephant :)\" width=\"150\" align=\"left\"/>\n",
        "\n",
        "## pg_bench to csv\n",
        "This notebook converts pgbench output into a csv for quick analysis.\n",
        "It expects multiple lines of output in the form:\n",
        "```\n",
        "progress: 85.0 s, 2558.2 tps, lat 3.907 ms stddev 0.858\n",
        "```\n",
        "(which can be gotten by adding the `--progress [number]` flag in pg_bench) and a final average tps line that looks like: \n",
        "```\n",
        "tps = 4048.725858 (excluding connections establishing)\n",
        "```\n",
        "Anything between these will be ignored\n"
      ]
    },
    {
      "cell_type": "code",
      "metadata": {
        "id": "J7Hx3B7jxEiB",
        "colab_type": "code",
        "colab": {}
      },
      "source": [
        "#@title pg_bench output\n",
        "#Converts all the input to one line, intentional, don't worry\n",
        "output = 'progress: 5.0 s, 4239.4 tps, lat 2.351 ms stddev 0.816 progress: 10.0 s, 4274.6 tps, lat 2.338 ms stddev 0.289 progress: 15.0 s, 4184.4 tps, lat 2.388 ms stddev 0.420 progress: 20.0 s, 4244.4 tps, lat 2.354 ms stddev 0.607 progress: 25.0 s, 4309.2 tps, lat 2.319 ms stddev 0.296 progress: 30.0 s, 4122.6 tps, lat 2.424 ms stddev 0.587 progress: 35.0 s, 4221.6 tps, lat 2.367 ms stddev 0.549 progress: 40.0 s, 3828.8 tps, lat 2.610 ms stddev 0.513 progress: 45.0 s, 3843.3 tps, lat 2.595 ms stddev 1.064 progress: 50.0 s, 3705.6 tps, lat 2.702 ms stddev 2.282 progress: 55.0 s, 3779.4 tps, lat 2.645 ms stddev 0.809 transaction type: write_only_transaction.sql scaling factor: 1 query mode: simple number of clients: 10 number of threads: 4 number of transactions per client: 23000 number of transactions actually processed: 230000/230000 latency average = 2.462 ms latency stddev = 0.922 ms tps = 4048.420782 (including connections establishing) tps = 4048.725858 (excluding connections establishing)' #@param {type:\"string\"}\n",
        "toExcel = True #@param {type: \"boolean\"}\n",
        "filename = \"hash 1\" #@param {type:\"string\"}"
      ],
      "execution_count": 72,
      "outputs": []
    },
    {
      "cell_type": "code",
      "metadata": {
        "id": "rQJ-GObn6aBG",
        "colab_type": "code",
        "colab": {
          "base_uri": "https://localhost:8080/",
          "height": 17
        },
        "outputId": "6324c6f3-f569-406b-bdde-e7753dd638e5"
      },
      "source": [
        "from google.colab import files\n",
        "import pandas as pd\n",
        "\n",
        "tokens = output.split()\n",
        "\n",
        "allProgessIndexes = [i for i, x in enumerate(tokens) if x == \"progress:\"]\n",
        "allTimeIndexes = [x + 1 for x in allProgessIndexes]\n",
        "allTimes = [float(tokens[i]) for i in allTimeIndexes] \n",
        "\n",
        "allTpsIndexes = [x + 3 for x in allProgessIndexes]\n",
        "allTps= [float(tokens[i]) for i in allTpsIndexes] \n",
        "\n",
        "#Also getting average tps\n",
        "averageTpsIndex = [i for i, x in enumerate(tokens) if x == \"tps\"][-1] + 2\n",
        "averageTps = float(tokens[averageTpsIndex])\n",
        "allTimes.extend([\"\", \"Average tps:\"])\n",
        "allTps.extend([\"\", averageTps])\n",
        "\n",
        "d = {'time': allTimes, 'tps': allTps}\n",
        "df = pd.DataFrame(data=d)\n",
        "if (toExcel):\n",
        "  df.to_excel(filename + '.xlsx', index=False)\n",
        "  files.download(filename + '.xlsx')\n",
        "else:\n",
        "  df.to_csv(filename + '.csv', index=False)\n",
        "  files.download(filename + '.csv')"
      ],
      "execution_count": 83,
      "outputs": [
        {
          "output_type": "display_data",
          "data": {
            "application/javascript": [
              "\n",
              "    async function download(id, filename, size) {\n",
              "      if (!google.colab.kernel.accessAllowed) {\n",
              "        return;\n",
              "      }\n",
              "      const div = document.createElement('div');\n",
              "      const label = document.createElement('label');\n",
              "      label.textContent = `Downloading \"${filename}\": `;\n",
              "      div.appendChild(label);\n",
              "      const progress = document.createElement('progress');\n",
              "      progress.max = size;\n",
              "      div.appendChild(progress);\n",
              "      document.body.appendChild(div);\n",
              "\n",
              "      const buffers = [];\n",
              "      let downloaded = 0;\n",
              "\n",
              "      const channel = await google.colab.kernel.comms.open(id);\n",
              "      // Send a message to notify the kernel that we're ready.\n",
              "      channel.send({})\n",
              "\n",
              "      for await (const message of channel.messages) {\n",
              "        // Send a message to notify the kernel that we're ready.\n",
              "        channel.send({})\n",
              "        if (message.buffers) {\n",
              "          for (const buffer of message.buffers) {\n",
              "            buffers.push(buffer);\n",
              "            downloaded += buffer.byteLength;\n",
              "            progress.value = downloaded;\n",
              "          }\n",
              "        }\n",
              "      }\n",
              "      const blob = new Blob(buffers, {type: 'application/binary'});\n",
              "      const a = document.createElement('a');\n",
              "      a.href = window.URL.createObjectURL(blob);\n",
              "      a.download = filename;\n",
              "      div.appendChild(a);\n",
              "      a.click();\n",
              "      div.remove();\n",
              "    }\n",
              "  "
            ],
            "text/plain": [
              "<IPython.core.display.Javascript object>"
            ]
          },
          "metadata": {
            "tags": []
          }
        },
        {
          "output_type": "display_data",
          "data": {
            "application/javascript": [
              "download(\"download_104b0d66-3627-4c69-86d2-d22cb1d2f026\", \"hash 1.xlsx\", 5154)"
            ],
            "text/plain": [
              "<IPython.core.display.Javascript object>"
            ]
          },
          "metadata": {
            "tags": []
          }
        }
      ]
    }
  ]
}