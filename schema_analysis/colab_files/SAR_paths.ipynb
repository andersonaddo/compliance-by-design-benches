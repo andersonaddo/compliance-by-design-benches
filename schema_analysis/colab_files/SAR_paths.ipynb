{
  "nbformat": 4,
  "nbformat_minor": 0,
  "metadata": {
    "colab": {
      "name": "SAR_paths.ipynb",
      "provenance": [],
      "collapsed_sections": []
    },
    "kernelspec": {
      "name": "python3",
      "display_name": "Python 3"
    }
  },
  "cells": [
    {
      "cell_type": "markdown",
      "metadata": {
        "id": "LJRsKbbJybt1",
        "colab_type": "text"
      },
      "source": [
        "<img src=\"https://upload.wikimedia.org/wikipedia/commons/3/37/Graph_cycle.svg\" alt=\"graph ._.\" width=\"150\" align=\"left\"/>\n",
        "\n",
        "## SAR paths\n",
        "A quick notebook that gives you stats on SAR graphs of databases\n"
      ]
    },
    {
      "cell_type": "code",
      "metadata": {
        "id": "7-ieK3UcNQfe",
        "colab_type": "code",
        "colab": {}
      },
      "source": [
        "import networkx as nx\n",
        "import matplotlib.pyplot as plt"
      ],
      "execution_count": null,
      "outputs": []
    },
    {
      "cell_type": "code",
      "metadata": {
        "id": "lFjLsd5NwGO2",
        "colab_type": "code",
        "colab": {}
      },
      "source": [
        "G=nx.Graph()"
      ],
      "execution_count": null,
      "outputs": []
    },
    {
      "cell_type": "markdown",
      "metadata": {
        "id": "789uzqxHz_BS",
        "colab_type": "text"
      },
      "source": [
        "Import a NetworkX graph (in NetworkX adjacency list format) if you have one."
      ]
    },
    {
      "cell_type": "code",
      "metadata": {
        "id": "NcnZHS_C2E_U",
        "colab_type": "code",
        "colab": {}
      },
      "source": [
        "from google.colab import files\n",
        "uploaded = files.upload()\n",
        "filename =  list(uploaded.keys())[0]\n",
        "G = nx.read_adjlist(filename)"
      ],
      "execution_count": null,
      "outputs": []
    },
    {
      "cell_type": "markdown",
      "metadata": {
        "id": "GxOwV4aAtZW1",
        "colab_type": "text"
      },
      "source": [
        "Defining Your Nodes"
      ]
    },
    {
      "cell_type": "code",
      "metadata": {
        "id": "rOYvr5Jyo5q4",
        "colab_type": "code",
        "colab": {}
      },
      "source": [
        "userinput = \"\"\n",
        "print(\"Enter all the nodes of the SAR graph. Type 'd' when you're done. End user record aliases in .\")\n",
        "while (userinput != 'd'):\n",
        "  userinput = input()\n",
        "  if (userinput == 'd'): continue\n",
        "  if (userinput.isspace()): print (\"*Names can't be only whitespace*\")\n",
        "  elif (list(G).count(userinput) != 0): print(\"*That node has already been added*\")\n",
        "  else: G.add_node(userinput)\n",
        "print(\"*Done!*\")"
      ],
      "execution_count": null,
      "outputs": []
    },
    {
      "cell_type": "markdown",
      "metadata": {
        "id": "N70R61IDtcCn",
        "colab_type": "text"
      },
      "source": [
        "Defining your edges"
      ]
    },
    {
      "cell_type": "code",
      "metadata": {
        "id": "rpwIiSsaqpPh",
        "colab_type": "code",
        "colab": {}
      },
      "source": [
        "print(\"Now that we have our graph, we're going to make our edges.\")\n",
        "print(\"Don't worry about duplicate edges; those are not counted.\")\n",
        "print(\"Available nodes: {0}\".format(list(G)))\n",
        "for node in list(G):\n",
        "  print(\"What nodes are connected to {0}\".format(node))\n",
        "  userinput = \"\"\n",
        "  while (userinput != 'd'):\n",
        "    userinput = input()\n",
        "    if (userinput == 'd'): continue\n",
        "    if (list(G).count(userinput) == 0): print(\"*That node isn't a part of the graph.*\")\n",
        "    else: G.add_edge(userinput, node)\n",
        "print(\"*Done!*\")"
      ],
      "execution_count": null,
      "outputs": []
    },
    {
      "cell_type": "markdown",
      "metadata": {
        "id": "j2b_f2wxtik3",
        "colab_type": "text"
      },
      "source": [
        "Rename an node (if you'd made a mistake)"
      ]
    },
    {
      "cell_type": "code",
      "metadata": {
        "id": "zom5nhGotqLQ",
        "colab_type": "code",
        "colab": {}
      },
      "source": [
        "oldname = \"\"\n",
        "newname = \"\"\n",
        "print(\"Which node would you like to rename?\")\n",
        "while (True):\n",
        "  oldname = input()\n",
        "  if (list(G).count(oldname) == 0): print(\"*That node isn't a part of the graph.*\")\n",
        "  else: break\n",
        "print(\"What should it's new name be?\")\n",
        "while (True):\n",
        "  newname = input()\n",
        "  if (newname.isspace()): print (\"*Names can't be only whitespace*\")\n",
        "  elif (list(G).count(newname) != 0): print(\"*That node has already been added*\")\n",
        "  else: break\n",
        "G = nx.relabel_nodes(G, {oldname: newname})\n",
        "print(\"*Done!*\")"
      ],
      "execution_count": null,
      "outputs": []
    },
    {
      "cell_type": "markdown",
      "metadata": {
        "id": "7Xw9AwhMvfBQ",
        "colab_type": "text"
      },
      "source": [
        "Remove an edge (if you've made a mistake)"
      ]
    },
    {
      "cell_type": "code",
      "metadata": {
        "id": "yaYo2S4xvbTe",
        "colab_type": "code",
        "colab": {}
      },
      "source": [
        "node1 = \"\"\n",
        "node2 = \"\"\n",
        "print(\"What's the name of the first node?\")\n",
        "while (True):\n",
        "  node1 = input()\n",
        "  if (list(G).count(node1) == 0): print(\"*That node isn't a part of the graph.*\")\n",
        "  else: break\n",
        "print(\"What's the name of the second node?\")\n",
        "while (True):\n",
        "  node2 = input()\n",
        "  if (list(G).count(node1) == 0): print(\"*That node isn't a part of the graph.*\")\n",
        "  else: break\n",
        "G.remove_edge(node1, node2)\n",
        "print(\"*Done!*\")"
      ],
      "execution_count": null,
      "outputs": []
    },
    {
      "cell_type": "markdown",
      "metadata": {
        "id": "3iYSzl9_v5zv",
        "colab_type": "text"
      },
      "source": [
        "Add a single edge (if you forgot to add one)"
      ]
    },
    {
      "cell_type": "code",
      "metadata": {
        "id": "wKcnonIlv9bq",
        "colab_type": "code",
        "colab": {}
      },
      "source": [
        "node1 = \"\"\n",
        "node2 = \"\"\n",
        "print(\"What's the name of the first node?\")\n",
        "while (True):\n",
        "  node1 = input()\n",
        "  if (list(G).count(node1) == 0): print(\"*That node isn't a part of the graph.*\")\n",
        "  else: break\n",
        "print(\"What's the name of the second node?\")\n",
        "while (True):\n",
        "  node2 = input()\n",
        "  if (list(G).count(node1) == 0): print(\"*That node isn't a part of the graph.*\")\n",
        "  else: break\n",
        "G.add_edge(node1, node2)\n",
        "print(\"*Done!*\")"
      ],
      "execution_count": null,
      "outputs": []
    },
    {
      "cell_type": "markdown",
      "metadata": {
        "id": "6WPaVXhPteXo",
        "colab_type": "text"
      },
      "source": [
        "Drawing the Graph"
      ]
    },
    {
      "cell_type": "code",
      "metadata": {
        "id": "qiBqYvSkpFfA",
        "colab_type": "code",
        "colab": {}
      },
      "source": [
        "color_list = []\n",
        "for node in list(G):\n",
        "  if (node.endswith('.')): color_list.append(\"#90EE90\")\n",
        "  else: color_list.append('#FFE4B5')\n",
        " \n",
        "print(\"Normal records are in beige, user records are in green\")\n",
        "plt.figure(1,figsize=(12,10)) \n",
        "nx.draw(G, with_labels = True, node_color=color_list, node_shape=\"h\", node_size = 1300, edge_color=\"#222222\")"
      ],
      "execution_count": null,
      "outputs": []
    },
    {
      "cell_type": "markdown",
      "metadata": {
        "id": "DKqJrtkD4Hlq",
        "colab_type": "text"
      },
      "source": [
        "Download graph as a NetworkX adjacency list for later use"
      ]
    },
    {
      "cell_type": "code",
      "metadata": {
        "id": "8OfBnFZYz-Ne",
        "colab_type": "code",
        "colab": {}
      },
      "source": [
        "from google.colab import files\n",
        "from datetime import datetime\n",
        "now = datetime.now()\n",
        "filename = 'SARmap{0}.adjlist'.format(now.strftime(\"%H:%M:%S\"))\n",
        "nx.write_adjlist(G, filename)\n",
        "files.download(filename)"
      ],
      "execution_count": null,
      "outputs": []
    },
    {
      "cell_type": "markdown",
      "metadata": {
        "id": "9lgZ1WkR4o1E",
        "colab_type": "text"
      },
      "source": [
        "Get all possible paths"
      ]
    },
    {
      "cell_type": "code",
      "metadata": {
        "id": "2V8DjPM04odO",
        "colab_type": "code",
        "colab": {}
      },
      "source": [
        "from itertools import combinations \n",
        "usernodes = filter(lambda x: x.endswith(\".\"), list(G)) \n",
        "allusernodepairs = combinations(usernodes, 2) \n",
        "allusernodepairs = list(allusernodepairs) #Had to do this to prevent a wierd bug that stops loops from executing\n",
        "pathcount = 0\n",
        "allpaths = \"\"\n",
        "for pair in allusernodepairs:\n",
        "  allpaths += '\\n\\n**Paths from {0} to {1}'.format(pair[0], pair[1])\n",
        "  for path in nx.all_simple_paths(G, source=pair[0], target=pair[1]):\n",
        "    allpaths += '\\n' + ' <=> '.join(path)\n",
        "    pathcount+=1\n",
        " \n",
        "print(\"**{0} unique user node pairs have been found\".format(len(allusernodepairs)))\n",
        "print(\"**Total path count: {0}\".format(pathcount))\n",
        " \n",
        "print(allpaths)\n",
        " \n",
        "print(\"\\nJust repeating what was at the top of this log:\")\n",
        "print(\"**{0} unique user node pairs have been found\".format(len(allusernodepairs)))\n",
        "print(\"**Total path count: {0}\".format(pathcount))"
      ],
      "execution_count": null,
      "outputs": []
    },
    {
      "cell_type": "markdown",
      "metadata": {
        "id": "n-EVqcItZI8c",
        "colab_type": "text"
      },
      "source": [
        "Drawing using graphviz - not useful now, but could be useful if you needed to visualize self loops, inferred links or ghost links"
      ]
    },
    {
      "cell_type": "code",
      "metadata": {
        "id": "GQeVqhiPyx20",
        "colab_type": "code",
        "colab": {}
      },
      "source": [
        "!apt-get install python3-dev graphviz libgraphviz-dev pkg-config\n",
        "!pip install pygraphviz"
      ],
      "execution_count": null,
      "outputs": []
    },
    {
      "cell_type": "code",
      "metadata": {
        "id": "saLwQe_SRYzP",
        "colab_type": "code",
        "colab": {}
      },
      "source": [
        "import networkx as nx\n",
        "from networkx.drawing.nx_agraph import to_agraph \n",
        "import graphviz\n",
        " \n",
        "# add graphviz layout options (see https://stackoverflow.com/a/39662097)\n",
        "# G.graph['edge'] = {'arrowsize': '0.6', 'splines': 'curved'}\n",
        "# G.graph['graph'] = {'scale': '3'}\n",
        " \n",
        "A = to_agraph(G) \n",
        "A.layout('neato')                                                                 \n",
        "graphviz.Source(A)"
      ],
      "execution_count": null,
      "outputs": []
    }
  ]
}